{
 "cells": [
  {
   "cell_type": "code",
   "execution_count": 1,
   "id": "388a8119-a6fc-4c34-9843-82048e7612f9",
   "metadata": {},
   "outputs": [
    {
     "name": "stdout",
     "output_type": "stream",
     "text": [
      "Collecting faker\n",
      "  Downloading faker-37.4.0-py3-none-any.whl.metadata (15 kB)\n",
      "Requirement already satisfied: tzdata in /Library/Frameworks/Python.framework/Versions/3.12/lib/python3.12/site-packages (from faker) (2025.1)\n",
      "Downloading faker-37.4.0-py3-none-any.whl (1.9 MB)\n",
      "\u001b[2K   \u001b[90m━━━━━━━━━━━━━━━━━━━━━━━━━━━━━━━━━━━━━━━━\u001b[0m \u001b[32m1.9/1.9 MB\u001b[0m \u001b[31m16.2 MB/s\u001b[0m eta \u001b[36m0:00:00\u001b[0m\n",
      "\u001b[?25hInstalling collected packages: faker\n",
      "Successfully installed faker-37.4.0\n",
      "Note: you may need to restart the kernel to use updated packages.\n"
     ]
    }
   ],
   "source": [
    "pip install faker"
   ]
  },
  {
   "cell_type": "code",
   "execution_count": 2,
   "id": "831bfb28-00e1-4f29-8d57-73bae2bb3355",
   "metadata": {},
   "outputs": [],
   "source": [
    "from faker import Faker\n",
    "import csv\n",
    "import random\n",
    "from decimal import Decimal\n",
    "from datetime import datetime\n",
    "\n",
    "RECORD_COUNT = 10000\n",
    "fake = Faker()"
   ]
  },
  {
   "cell_type": "code",
   "execution_count": null,
   "id": "d2f565ef-a1f7-40f8-8f98-196d76f601af",
   "metadata": {},
   "outputs": [],
   "source": [
    "def create_csv_file():\n",
    "    current_time = datetime.now().strftime(\"%Y%m%d%H%M%S\")\n",
    "    file_path = f'FakeDataset/customer_{current_time}.csv'\n",
    "    with open(file_path, 'w', newline='') as csvfile:\n",
    "        fieldnames = [\"customer_id\", \"first_name\", \"last_name\", \"email\", \"street\",\n",
    "                      \"city\", \"state\", \"country\"]\n",
    "        writer = csv.DictWriter(csvfile, fieldnames=fieldnames)\n",
    "\n",
    "        writer.writeheader()\n",
    "        for i in range(RECORD_COUNT):\n",
    "            writer.writerow(\n",
    "                {\n",
    "                    \"customer_id\": i,\n",
    "                    'first_name': fake.first_name(),\n",
    "                    'last_name': fake.last_name(),\n",
    "                    'email': fake.email(),\n",
    "                    'street': fake.street_address(),\n",
    "                    'city': fake.city(),\n",
    "                    'state': fake.state(),\n",
    "                    'country': fake.country()\n",
    "                }\n",
    "            )"
   ]
  },
  {
   "cell_type": "code",
   "execution_count": null,
   "id": "1d22b663-94d2-45bc-b698-dcb25bbaa64e",
   "metadata": {},
   "outputs": [],
   "source": [
    "if __name__ == \"__main__\":\n",
    "    while True:\n",
    "        create_csv_file()\n",
    "        time.sleep(30)"
   ]
  }
 ],
 "metadata": {
  "kernelspec": {
   "display_name": "Python 3 (ipykernel)",
   "language": "python",
   "name": "python3"
  },
  "language_info": {
   "codemirror_mode": {
    "name": "ipython",
    "version": 3
   },
   "file_extension": ".py",
   "mimetype": "text/x-python",
   "name": "python",
   "nbconvert_exporter": "python",
   "pygments_lexer": "ipython3",
   "version": "3.12.0"
  }
 },
 "nbformat": 4,
 "nbformat_minor": 5
}
